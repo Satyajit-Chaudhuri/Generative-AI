{
 "cells": [
  {
   "cell_type": "code",
   "execution_count": 1,
   "metadata": {},
   "outputs": [],
   "source": [
    "import re\n",
    "from collections import Counter"
   ]
  },
  {
   "cell_type": "code",
   "execution_count": 2,
   "metadata": {},
   "outputs": [],
   "source": [
    "# function to tokenise words\n",
    "def words(document):\n",
    "    \"Convert text to lower case and tokenise the document\"\n",
    "    return re.findall(r'\\w+', document.lower())"
   ]
  },
  {
   "cell_type": "code",
   "execution_count": 3,
   "metadata": {},
   "outputs": [],
   "source": [
    "# create a frequency table of all the words of the document\n",
    "all_words = Counter(words(open('big.txt').read()))"
   ]
  },
  {
   "cell_type": "code",
   "execution_count": 4,
   "metadata": {},
   "outputs": [
    {
     "data": {
      "text/plain": [
       "135"
      ]
     },
     "execution_count": 4,
     "metadata": {},
     "output_type": "execute_result"
    }
   ],
   "source": [
    "# check frequency of a random word, say, 'chair'\n",
    "all_words['chair']"
   ]
  },
  {
   "cell_type": "code",
   "execution_count": 5,
   "metadata": {},
   "outputs": [
    {
     "data": {
      "text/plain": [
       "[('the', 79809),\n",
       " ('of', 40024),\n",
       " ('and', 38312),\n",
       " ('to', 28765),\n",
       " ('in', 22023),\n",
       " ('a', 21124),\n",
       " ('that', 12512),\n",
       " ('he', 12401),\n",
       " ('was', 11410),\n",
       " ('it', 10681)]"
      ]
     },
     "execution_count": 5,
     "metadata": {},
     "output_type": "execute_result"
    }
   ],
   "source": [
    "# look at top 10 frequent words\n",
    "all_words.most_common(10)"
   ]
  },
  {
   "cell_type": "code",
   "execution_count": 6,
   "metadata": {},
   "outputs": [],
   "source": [
    "def edits_one(word):\n",
    "    \"Create all edits that are one edit away from `word`.\"\n",
    "    alphabets    = 'abcdefghijklmnopqrstuvwxyz'\n",
    "    splits     = [(word[:i], word[i:])                   for i in range(len(word) + 1)]\n",
    "    deletes    = [left + right[1:]                       for left, right in splits if right]\n",
    "    inserts    = [left + c + right                       for left, right in splits for c in alphabets]\n",
    "    replaces   = [left + c + right[1:]                   for left, right in splits if right for c in alphabets]\n",
    "    transposes = [left + right[1] + right[0] + right[2:] for left, right in splits if len(right)>1]\n",
    "    return set(deletes + inserts + replaces + transposes)"
   ]
  },
  {
   "cell_type": "code",
   "execution_count": 7,
   "metadata": {},
   "outputs": [],
   "source": [
    "def edits_two(word):\n",
    "    \"Create all edits that are two edits away from `word`.\"\n",
    "    return (e2 for e1 in edits_one(word) for e2 in edits_one(e1))"
   ]
  },
  {
   "cell_type": "code",
   "execution_count": 8,
   "metadata": {},
   "outputs": [],
   "source": [
    "def known(words):\n",
    "    \"The subset of `words` that appear in the `all_words`.\"\n",
    "    return set(word for word in words if word in all_words)"
   ]
  },
  {
   "cell_type": "code",
   "execution_count": 9,
   "metadata": {},
   "outputs": [],
   "source": [
    "def possible_corrections(word):\n",
    "    \"Generate possible spelling corrections for word.\"\n",
    "    return (known([word]) or known(edits_one(word)) or known(edits_two(word)) or [word])"
   ]
  },
  {
   "cell_type": "code",
   "execution_count": 10,
   "metadata": {},
   "outputs": [],
   "source": [
    "def prob(word, N=sum(all_words.values())): \n",
    "    \"Probability of `word`: Number of appearances of 'word' / total number of tokens\"\n",
    "    return all_words[word] / N"
   ]
  },
  {
   "cell_type": "code",
   "execution_count": 11,
   "metadata": {},
   "outputs": [
    {
     "name": "stdout",
     "output_type": "stream",
     "text": [
      "336\n",
      "{'monnefy', 'monmney', 'mozney', 'monnev', 'moanney', 'mofnney', 'mobnney', 'moznney', 'monnaey', 'vonney', 'smonney', 'monuney', 'nonney', 'monneyw', 'montey', 'monnesy', 'monnrey', 'monvey', 'monntey', 'monnely', 'monneyv', 'mokney', 'mounney', 'monmey', 'mowney', 'monneo', 'moxney', 'mpnney', 'mownney', 'mbonney', 'monlney', 'ymonney', 'monnqy', 'molney', 'emonney', 'monfey', 'monley', 'monnei', 'monnvy', 'monnfy', 'uonney', 'monyey', 'monnkey', 'mononey', 'montney', 'monnwy', 'tmonney', 'mosnney', 'monnzy', 'monneu', 'mjonney', 'monyney', 'monhey', 'wmonney', 'lonney', 'mfonney', 'monnqey', 'mtnney', 'moinney', 'moneney', 'mlonney', 'monneyy', 'monneys', 'monnejy', 'monneey', 'mojnney', 'mnnney', 'tonney', 'mooney', 'monneg', 'modnney', 'monnwey', 'eonney', 'mnonney', 'monnay', 'monneye', 'monnvey', 'xonney', 'monpney', 'monpey', 'monngy', 'monne', 'fmonney', 'monneyj', 'monnehy', 'monbney', 'mvnney', 'qonney', 'monnej', 'mrnney', 'moeney', 'monneuy', 'msnney', 'mdnney', 'donney', 'monngey', 'mopney', 'monnewy', 'menney', 'fonney', 'monneyi', 'monnuy', 'monnery', 'monnecy', 'monned', 'moxnney', 'monnuey', 'dmonney', 'hmonney', 'mionney', 'ionney', 'monneyp', 'monnem', 'mdonney', 'monneyg', 'conney', 'monneyk', 'monneyc', 'gonney', 'monxney', 'monsney', 'minney', 'monaey', 'modney', 'nmonney', 'oonney', 'mznney', 'monneya', 'monnpy', 'monndy', 'monoey', 'monneyr', 'monnsy', 'monnegy', 'monnky', 'momney', 'molnney', 'monny', 'konney', 'monnoy', 'jmonney', 'monneh', 'monneqy', 'mqnney', 'moncney', 'mxnney', 'moiney', 'monnye', 'mlnney', 'monnyey', 'monnea', 'monnepy', 'monnevy', 'mondney', 'mhonney', 'mhnney', 'manney', 'myonney', 'monnsey', 'monneoy', 'mzonney', 'mvonney', 'mongey', 'monkey', 'zonney', 'mornney', 'monner', 'omnney', 'monneym', 'maonney', 'monvney', 'monnoey', 'monnee', 'monnjy', 'monqney', 'monnfey', 'monnbey', 'monneyq', 'monneyt', 'monneay', 'morney', 'monnney', 'ponney', 'monnxy', 'monneyl', 'monnedy', 'monhney', 'aonney', 'monjey', 'honney', 'mgnney', 'moniney', 'monuey', 'mmonney', 'mondey', 'monneny', 'imonney', 'omonney', 'monnemy', 'monfney', 'monneiy', 'monkney', 'monnmey', 'pmonney', 'monneyf', 'mbnney', 'monneyb', 'bonney', 'onney', 'monneyo', 'moenney', 'qmonney', 'moncey', 'monnby', 'mobney', 'monnez', 'monndey', 'mconney', 'mofney', 'monneky', 'monnet', 'mmnney', 'monzney', 'monneyh', 'munney', 'monnmy', 'moyney', 'monbey', 'mcnney', 'monniy', 'monneyd', 'mwnney', 'monxey', 'motnney', 'monneby', 'mohney', 'monnexy', 'monnhey', 'mronney', 'mynney', 'cmonney', 'monnew', 'zmonney', 'mopnney', 'monnry', 'monncy', 'monnxey', 'mogney', 'monnny', 'monnhy', 'amonney', 'mjnney', 'monzey', 'rmonney', 'monneq', 'monnley', 'jonney', 'movnney', 'moqney', 'monnec', 'monnel', 'monnyy', 'monneyn', 'mgonney', 'monwney', 'mnney', 'monncey', 'moqnney', 'mknney', 'movney', 'monniey', 'mohnney', 'momnney', 'mtonney', 'monnety', 'moonney', 'monwey', 'mouney', 'umonney', 'mqonney', 'moynney', 'monjney', 'monneyz', 'sonney', 'monqey', 'motney', 'mocnney', 'monnef', 'meonney', 'mfnney', 'kmonney', 'gmonney', 'mojney', 'monneb', 'msonney', 'money', 'moniey', 'monnes', 'mongney', 'monrney', 'mocney', 'monaney', 'monneyx', 'monsey', 'moneey', 'yonney', 'lmonney', 'xmonney', 'monrey', 'monnly', 'mxonney', 'monney', 'moknney', 'monnezy', 'mosney', 'monnex', 'ronney', 'wonney', 'mognney', 'vmonney', 'mkonney', 'monnty', 'monnjey', 'mnoney', 'mwonney', 'moneny', 'monnek', 'muonney', 'monneyu', 'monnzey', 'bmonney', 'mponney', 'monnen', 'moaney', 'monnpey', 'monnep'}\n"
     ]
    }
   ],
   "source": [
    "print(len(set(edits_one(\"monney\"))))\n",
    "print(edits_one(\"monney\"))"
   ]
  },
  {
   "cell_type": "code",
   "execution_count": 12,
   "metadata": {},
   "outputs": [
    {
     "name": "stdout",
     "output_type": "stream",
     "text": [
      "{'money', 'monkey'}\n"
     ]
    }
   ],
   "source": [
    "print(known(edits_one(\"monney\")))"
   ]
  },
  {
   "cell_type": "code",
   "execution_count": 13,
   "metadata": {},
   "outputs": [
    {
     "name": "stdout",
     "output_type": "stream",
     "text": [
      "51013\n",
      "{'money', 'monkey'}\n"
     ]
    }
   ],
   "source": [
    "# Let's look at words that are two edits away\n",
    "print(len(set(edits_two(\"monney\"))))\n",
    "print(known(edits_one(\"monney\")))"
   ]
  },
  {
   "cell_type": "code",
   "execution_count": 14,
   "metadata": {},
   "outputs": [
    {
     "name": "stdout",
     "output_type": "stream",
     "text": [
      "{'money', 'monkey'}\n"
     ]
    }
   ],
   "source": [
    "# Let's look at possible corrections of a word\n",
    "print(possible_corrections(\"monney\"))"
   ]
  },
  {
   "cell_type": "code",
   "execution_count": 15,
   "metadata": {},
   "outputs": [
    {
     "name": "stdout",
     "output_type": "stream",
     "text": [
      "0.0002922233626303688\n",
      "5.378344097491451e-06\n"
     ]
    }
   ],
   "source": [
    "# Let's look at probability of a word\n",
    "print(prob(\"money\"))\n",
    "print(prob(\"monkey\"))"
   ]
  },
  {
   "cell_type": "code",
   "execution_count": 16,
   "metadata": {},
   "outputs": [],
   "source": [
    "def spell_check(word):\n",
    "    \"Print the most probable spelling correction for `word` out of all the `possible_corrections`\"\n",
    "    correct_word = max(possible_corrections(word), key=prob)\n",
    "    if correct_word != word:\n",
    "        return \"Did you mean \" + correct_word + \"?\"\n",
    "    else:\n",
    "        return \"Correct spelling.\""
   ]
  },
  {
   "cell_type": "code",
   "execution_count": 17,
   "metadata": {},
   "outputs": [
    {
     "name": "stdout",
     "output_type": "stream",
     "text": [
      "Did you mean money?\n"
     ]
    }
   ],
   "source": [
    "# test spell check\n",
    "print(spell_check(\"monney\"))"
   ]
  }
 ],
 "metadata": {
  "kernelspec": {
   "display_name": "Python 3 (ipykernel)",
   "language": "python",
   "name": "python3"
  },
  "language_info": {
   "codemirror_mode": {
    "name": "ipython",
    "version": 3
   },
   "file_extension": ".py",
   "mimetype": "text/x-python",
   "name": "python",
   "nbconvert_exporter": "python",
   "pygments_lexer": "ipython3",
   "version": "3.9.13"
  }
 },
 "nbformat": 4,
 "nbformat_minor": 2
}
